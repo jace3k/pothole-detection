{
 "cells": [
  {
   "cell_type": "markdown",
   "metadata": {},
   "source": [
    "## Pothole detection\n",
    "\n",
    "Jacek Piszczek\n",
    "Damodar Łepski\n"
   ]
  },
  {
   "cell_type": "code",
   "execution_count": 1,
   "metadata": {},
   "outputs": [],
   "source": [
    "ROAD_IMAGE_DATA_FOLDER = 'Road_Image_Data'\n",
    "POTHOLE_IMAGE_DATA_FOLDER = 'Pothole_Image_Data'\n"
   ]
  },
  {
   "cell_type": "markdown",
   "metadata": {},
   "source": [
    "# __Prepare image names from folders__"
   ]
  },
  {
   "cell_type": "code",
   "execution_count": 34,
   "metadata": {},
   "outputs": [],
   "source": [
    "from subprocess import check_output\n",
    "\n",
    "def get_image_list(folder_name):\n",
    "    images = check_output(['ls', folder_name]).decode('utf-8').split('\\n')\n",
    "    return list(filter(None, images))\n",
    "\n",
    "\n",
    "nice_road_images = get_image_list(ROAD_IMAGE_DATA_FOLDER)\n",
    "pothole_images = get_image_list(POTHOLE_IMAGE_DATA_FOLDER)"
   ]
  },
  {
   "cell_type": "markdown",
   "metadata": {},
   "source": [
    "# Scale and HOG images"
   ]
  },
  {
   "cell_type": "code",
   "execution_count": 38,
   "metadata": {},
   "outputs": [],
   "source": [
    "# import matplotlib.pyplot as plt\n",
    "import pandas as pd\n",
    "from skimage.feature import hog\n",
    "from skimage import data, exposure\n",
    "from skimage.io import imread\n",
    "from skimage.transform import resize\n",
    "\n",
    "\n",
    "\n",
    "def scale_and_hog(folder_name, image_names):\n",
    "    \n",
    "    images_list = []\n",
    "    features_list = []\n",
    "    for img_name in image_names:\n",
    "        image = imread('{}/{}'.format(folder_name, img_name))\n",
    "        image = resize(image, (480, 640))\n",
    "        try:\n",
    "            fd, hog_image = hog(image, orientations=8, pixels_per_cell=(8, 8), cells_per_block=(1, 1), visualize=True, multichannel=True)\n",
    "\n",
    "            hog_image_rescaled = exposure.rescale_intensity(hog_image, in_range=(0, 5))\n",
    "            images_list.append(hog_image_rescaled)\n",
    "            features_list.append(fd)\n",
    "        except:\n",
    "            print('Error: {}'.format(img_name))\n",
    "    print(\"{} done!\".format(ROAD_IMAGE_DATA_FOLDER))\n",
    "    return features_list, images_list\n",
    "\n",
    "\n",
    "\n",
    "\n",
    "\n",
    "# image = imread('Pothole_Image_Data/16.jpg')\n",
    "# image = resize(image, (480, 640))\n",
    "\n",
    "# fd, hog_image = hog(image, orientations=8, pixels_per_cell=(8, 8),\n",
    "#                     cells_per_block=(1, 1), visualize=True, multichannel=True)\n",
    "\n",
    "# print(fd.shape)\n",
    "# print(fd)\n",
    "# print(type(fd))\n",
    "\n",
    "# fig, (ax1, ax2) = plt.subplots(1, 2, figsize=(8, 4), sharex=True, sharey=True)\n",
    "\n",
    "# ax1.axis('off')\n",
    "# ax1.imshow(image, cmap=plt.cm.gray)\n",
    "# ax1.set_title('Input image')\n",
    "\n",
    "# hog_image_rescaled = exposure.rescale_intensity(hog_image, in_range=(0, 5))\n",
    "\n",
    "# print('**********************')\n",
    "\n",
    "# print(type(hog_image_rescaled))\n",
    "# print(hog_image_rescaled)\n",
    "# print(hog_image_rescaled.shape)\n",
    "\n",
    "# ax2.axis('off')\n",
    "# ax2.imshow(hog_image_rescaled, cmap=plt.cm.gray)\n",
    "# ax2.set_title('Histogram of Oriented Gradients')\n",
    "# plt.show()"
   ]
  },
  {
   "cell_type": "markdown",
   "metadata": {},
   "source": [
    "# Scale and HOG nice road"
   ]
  },
  {
   "cell_type": "code",
   "execution_count": 72,
   "metadata": {},
   "outputs": [
    {
     "name": "stdout",
     "output_type": "stream",
     "text": [
      "Road_Image_Data done!\n"
     ]
    }
   ],
   "source": [
    "nice_fd, nice_img = scale_and_hog(ROAD_IMAGE_DATA_FOLDER, nice_road_images)"
   ]
  },
  {
   "cell_type": "markdown",
   "metadata": {},
   "source": [
    "# Scale and HOG Potholes"
   ]
  },
  {
   "cell_type": "code",
   "execution_count": 39,
   "metadata": {},
   "outputs": [
    {
     "name": "stdout",
     "output_type": "stream",
     "text": [
      "Error: 5.jpg\n",
      "Road_Image_Data done!\n"
     ]
    }
   ],
   "source": [
    "pothole_fd, pothole_img = scale_and_hog(POTHOLE_IMAGE_DATA_FOLDER, pothole_images)"
   ]
  },
  {
   "cell_type": "markdown",
   "metadata": {},
   "source": [
    "# Create labels and merge to one datasets"
   ]
  },
  {
   "cell_type": "code",
   "execution_count": 81,
   "metadata": {},
   "outputs": [
    {
     "name": "stdout",
     "output_type": "stream",
     "text": [
      "Labels for nice roads: 50\n",
      "Labels for potholes: 148\n",
      "******************\n",
      "[0.24372526 0.         0.49460775 ... 0.04441135 0.22166617 0.16697653] 1\n"
     ]
    }
   ],
   "source": [
    "nice_labels = [0 for _ in range(len(nice_fd))]\n",
    "pothole_labels = [1 for _ in range(len(pothole_fd))]\n",
    "print('Labels for nice roads: {}'.format(len(nice_labels)))\n",
    "print('Labels for potholes: {}'.format(len(pothole_labels)))\n",
    "\n",
    "dataset_X = nice_fd + pothole_fd\n",
    "dataset_y = nice_labels + pothole_labels\n",
    "\n",
    "# Test image labeling\n",
    "# 0-49 should be images of nice roads (0)\n",
    "# Above are potholes (1)\n",
    "no = 55\n",
    "print('******************')\n",
    "print(dataset_X[no], dataset_y[no])\n"
   ]
  },
  {
   "cell_type": "markdown",
   "metadata": {},
   "source": [
    "# Prepare data frame"
   ]
  },
  {
   "cell_type": "code",
   "execution_count": 108,
   "metadata": {},
   "outputs": [
    {
     "name": "stdout",
     "output_type": "stream",
     "text": [
      "[[0.70510639 0.01156467 0.         ... 0.39634008 0.22900596 0.        ]\n",
      " [0.41482165 0.41482165 0.41482165 ... 0.37893953 0.37893953 0.        ]\n",
      " [0.40321636 0.18150558 0.40321636 ... 0.37888827 0.37888827 0.        ]\n",
      " ...\n",
      " [0.         0.         0.         ... 0.38401583 0.31972691 1.        ]\n",
      " [0.44608982 0.44608982 0.44608982 ... 0.40382898 0.17753813 0.        ]\n",
      " [0.41928647 0.0822111  0.27782134 ... 0.42604605 0.11399411 1.        ]]\n"
     ]
    }
   ],
   "source": [
    "import numpy as np\n",
    "\n",
    "labels =  np.array(dataset_y).reshape(len(dataset_y), 1)\n",
    "\n",
    "dataset_X = np.array(dataset_X)\n",
    "# print(dataset_y[1])\n",
    "data_frame = np.hstack((dataset_X, labels))\n",
    "np.random.shuffle(data_frame)\n",
    "\n",
    "print(data_frame)"
   ]
  },
  {
   "cell_type": "markdown",
   "metadata": {},
   "source": [
    "# Divide data to train and test"
   ]
  },
  {
   "cell_type": "code",
   "execution_count": 109,
   "metadata": {},
   "outputs": [
    {
     "data": {
      "text/plain": [
       "SVC(C=1.0, break_ties=False, cache_size=200, class_weight=None, coef0=0.0,\n",
       "    decision_function_shape='ovr', degree=3, gamma='scale', kernel='rbf',\n",
       "    max_iter=-1, probability=False, random_state=None, shrinking=True,\n",
       "    tol=0.001, verbose=False)"
      ]
     },
     "execution_count": 109,
     "metadata": {},
     "output_type": "execute_result"
    }
   ],
   "source": [
    "from sklearn import svm\n",
    "train_percent = 80\n",
    "p = int(len(dataset_X)*train_percent/100)\n",
    "\n",
    "x_train, x_test = data_frame[:p,:-1],  data_frame[p:,:-1]\n",
    "y_train, y_test = data_frame[:p,-1:].ravel() , data_frame[p:,-1:].ravel()\n",
    "\n",
    "clf = svm.SVC()\n",
    "clf.fit(x_train,y_train)"
   ]
  },
  {
   "cell_type": "markdown",
   "metadata": {},
   "source": [
    "# Run prediction of SVC Classifier"
   ]
  },
  {
   "cell_type": "code",
   "execution_count": 110,
   "metadata": {},
   "outputs": [
    {
     "name": "stdout",
     "output_type": "stream",
     "text": [
      "Accuracy: 0.8\n",
      "\n",
      "\n",
      "              precision    recall  f1-score   support\n",
      "\n",
      "         0.0       0.67      0.22      0.33         9\n",
      "         1.0       0.81      0.97      0.88        31\n",
      "\n",
      "    accuracy                           0.80        40\n",
      "   macro avg       0.74      0.59      0.61        40\n",
      "weighted avg       0.78      0.80      0.76        40\n",
      "\n"
     ]
    }
   ],
   "source": [
    "from sklearn.metrics import classification_report,accuracy_score\n",
    "y_pred = clf.predict(x_test)\n",
    "print(\"Accuracy: \"+str(accuracy_score(y_test, y_pred)))\n",
    "print('\\n')\n",
    "print(classification_report(y_test, y_pred))"
   ]
  }
 ],
 "metadata": {
  "kernelspec": {
   "display_name": "Python 3",
   "language": "python",
   "name": "python3"
  },
  "language_info": {
   "codemirror_mode": {
    "name": "ipython",
    "version": 3
   },
   "file_extension": ".py",
   "mimetype": "text/x-python",
   "name": "python",
   "nbconvert_exporter": "python",
   "pygments_lexer": "ipython3",
   "version": "3.6.9"
  }
 },
 "nbformat": 4,
 "nbformat_minor": 4
}
